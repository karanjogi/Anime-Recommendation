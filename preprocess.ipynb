{
 "cells": [
  {
   "cell_type": "code",
   "execution_count": 1,
   "metadata": {},
   "outputs": [],
   "source": [
    "import numpy as np\n",
    "import pandas as pd\n",
    "from pyspark.sql import SparkSession"
   ]
  },
  {
   "cell_type": "code",
   "execution_count": 2,
   "metadata": {},
   "outputs": [],
   "source": [
    "animes = pd.read_csv(\"dataset/animes.csv\")"
   ]
  },
  {
   "cell_type": "code",
   "execution_count": 3,
   "metadata": {},
   "outputs": [
    {
     "data": {
      "text/html": [
       "<div>\n",
       "<style scoped>\n",
       "    .dataframe tbody tr th:only-of-type {\n",
       "        vertical-align: middle;\n",
       "    }\n",
       "\n",
       "    .dataframe tbody tr th {\n",
       "        vertical-align: top;\n",
       "    }\n",
       "\n",
       "    .dataframe thead th {\n",
       "        text-align: right;\n",
       "    }\n",
       "</style>\n",
       "<table border=\"1\" class=\"dataframe\">\n",
       "  <thead>\n",
       "    <tr style=\"text-align: right;\">\n",
       "      <th></th>\n",
       "      <th>title</th>\n",
       "      <th>anime_id</th>\n",
       "      <th>url</th>\n",
       "      <th>image_path</th>\n",
       "      <th>airing_status</th>\n",
       "      <th>num_episodes</th>\n",
       "      <th>mpaa_rating</th>\n",
       "      <th>last_scraped_date</th>\n",
       "      <th>title_japanese</th>\n",
       "      <th>synopsis</th>\n",
       "      <th>title_english</th>\n",
       "    </tr>\n",
       "  </thead>\n",
       "  <tbody>\n",
       "    <tr>\n",
       "      <th>0</th>\n",
       "      <td>Hanasaku Iroha</td>\n",
       "      <td>9289</td>\n",
       "      <td>https://myanimelist.net/anime/9289/Hanasaku_Iroha</td>\n",
       "      <td>https://cdn.myanimelist.net/images/anime/3/289...</td>\n",
       "      <td>2</td>\n",
       "      <td>26.0</td>\n",
       "      <td>PG-13 - Teens 13 or older</td>\n",
       "      <td>2020-09-13 11:23:05.509374</td>\n",
       "      <td>花咲くいろは</td>\n",
       "      <td>Ohana Matsumae is an energetic and wild teenag...</td>\n",
       "      <td>Hanasaku Iroha: Blossoms for Tomorrow</td>\n",
       "    </tr>\n",
       "    <tr>\n",
       "      <th>1</th>\n",
       "      <td>Uchuu Kyoudai</td>\n",
       "      <td>12431</td>\n",
       "      <td>https://myanimelist.net/anime/12431/Uchuu_Kyoudai</td>\n",
       "      <td>https://cdn.myanimelist.net/images/anime/7/375...</td>\n",
       "      <td>2</td>\n",
       "      <td>99.0</td>\n",
       "      <td>PG-13 - Teens 13 or older</td>\n",
       "      <td>2020-09-13 12:58:18.633841</td>\n",
       "      <td>宇宙兄弟</td>\n",
       "      <td>On a fateful summer night in 2006, Mutta Nanba...</td>\n",
       "      <td>Space Brothers</td>\n",
       "    </tr>\n",
       "    <tr>\n",
       "      <th>2</th>\n",
       "      <td>Yozakura Quartet: Hana no Uta</td>\n",
       "      <td>18497</td>\n",
       "      <td>https://myanimelist.net/anime/18497/Yozakura_Q...</td>\n",
       "      <td>https://cdn.myanimelist.net/images/anime/5/525...</td>\n",
       "      <td>2</td>\n",
       "      <td>13.0</td>\n",
       "      <td>PG-13 - Teens 13 or older</td>\n",
       "      <td>2020-09-13 14:39:45.15066</td>\n",
       "      <td>夜桜四重奏 ～ハナノウタ～</td>\n",
       "      <td>Hundreds of years ago, the borders between the...</td>\n",
       "      <td>NaN</td>\n",
       "    </tr>\n",
       "    <tr>\n",
       "      <th>3</th>\n",
       "      <td>Glass no Kamen Desu ga to Z Specials</td>\n",
       "      <td>34336</td>\n",
       "      <td>https://myanimelist.net/anime/34336/Glass_no_K...</td>\n",
       "      <td>https://cdn.myanimelist.net/images/anime/13/82...</td>\n",
       "      <td>2</td>\n",
       "      <td>2.0</td>\n",
       "      <td>PG-13 - Teens 13 or older</td>\n",
       "      <td>2020-09-14 01:53:48.51646</td>\n",
       "      <td>ガラスの仮面ですが と Z</td>\n",
       "      <td>Two unaired episodes of Glass no Kamen Desu ga...</td>\n",
       "      <td>NaN</td>\n",
       "    </tr>\n",
       "    <tr>\n",
       "      <th>4</th>\n",
       "      <td>Re:Zero kara Hajimeru Isekai Seikatsu 2nd Season</td>\n",
       "      <td>39587</td>\n",
       "      <td>https://myanimelist.net/anime/39587/Re_Zero_ka...</td>\n",
       "      <td>https://cdn.myanimelist.net/images/anime/1444/...</td>\n",
       "      <td>1</td>\n",
       "      <td>13.0</td>\n",
       "      <td>R - 17+ (violence &amp; profanity)</td>\n",
       "      <td>2020-09-14 06:45:31.052373</td>\n",
       "      <td>Re:ゼロから始める異世界生活 2nd season</td>\n",
       "      <td>Even after dying countless times, Subaru final...</td>\n",
       "      <td>Re:ZERO -Starting Life in Another World- Season 2</td>\n",
       "    </tr>\n",
       "  </tbody>\n",
       "</table>\n",
       "</div>"
      ],
      "text/plain": [
       "                                              title  anime_id  \\\n",
       "0                                    Hanasaku Iroha      9289   \n",
       "1                                     Uchuu Kyoudai     12431   \n",
       "2                     Yozakura Quartet: Hana no Uta     18497   \n",
       "3              Glass no Kamen Desu ga to Z Specials     34336   \n",
       "4  Re:Zero kara Hajimeru Isekai Seikatsu 2nd Season     39587   \n",
       "\n",
       "                                                 url  \\\n",
       "0  https://myanimelist.net/anime/9289/Hanasaku_Iroha   \n",
       "1  https://myanimelist.net/anime/12431/Uchuu_Kyoudai   \n",
       "2  https://myanimelist.net/anime/18497/Yozakura_Q...   \n",
       "3  https://myanimelist.net/anime/34336/Glass_no_K...   \n",
       "4  https://myanimelist.net/anime/39587/Re_Zero_ka...   \n",
       "\n",
       "                                          image_path  airing_status  \\\n",
       "0  https://cdn.myanimelist.net/images/anime/3/289...              2   \n",
       "1  https://cdn.myanimelist.net/images/anime/7/375...              2   \n",
       "2  https://cdn.myanimelist.net/images/anime/5/525...              2   \n",
       "3  https://cdn.myanimelist.net/images/anime/13/82...              2   \n",
       "4  https://cdn.myanimelist.net/images/anime/1444/...              1   \n",
       "\n",
       "   num_episodes                     mpaa_rating           last_scraped_date  \\\n",
       "0          26.0       PG-13 - Teens 13 or older  2020-09-13 11:23:05.509374   \n",
       "1          99.0       PG-13 - Teens 13 or older  2020-09-13 12:58:18.633841   \n",
       "2          13.0       PG-13 - Teens 13 or older   2020-09-13 14:39:45.15066   \n",
       "3           2.0       PG-13 - Teens 13 or older   2020-09-14 01:53:48.51646   \n",
       "4          13.0  R - 17+ (violence & profanity)  2020-09-14 06:45:31.052373   \n",
       "\n",
       "               title_japanese  \\\n",
       "0                      花咲くいろは   \n",
       "1                        宇宙兄弟   \n",
       "2               夜桜四重奏 ～ハナノウタ～   \n",
       "3               ガラスの仮面ですが と Z   \n",
       "4  Re:ゼロから始める異世界生活 2nd season   \n",
       "\n",
       "                                            synopsis  \\\n",
       "0  Ohana Matsumae is an energetic and wild teenag...   \n",
       "1  On a fateful summer night in 2006, Mutta Nanba...   \n",
       "2  Hundreds of years ago, the borders between the...   \n",
       "3  Two unaired episodes of Glass no Kamen Desu ga...   \n",
       "4  Even after dying countless times, Subaru final...   \n",
       "\n",
       "                                       title_english  \n",
       "0              Hanasaku Iroha: Blossoms for Tomorrow  \n",
       "1                                     Space Brothers  \n",
       "2                                                NaN  \n",
       "3                                                NaN  \n",
       "4  Re:ZERO -Starting Life in Another World- Season 2  "
      ]
     },
     "execution_count": 3,
     "metadata": {},
     "output_type": "execute_result"
    }
   ],
   "source": [
    "animes.head()"
   ]
  },
  {
   "cell_type": "code",
   "execution_count": 4,
   "metadata": {},
   "outputs": [],
   "source": [
    "animes.drop(columns= [\"last_scraped_date\", \"title_japanese\", \"title_english\"], axis= 1, inplace= True)"
   ]
  },
  {
   "cell_type": "code",
   "execution_count": 5,
   "metadata": {},
   "outputs": [],
   "source": [
    "image_links = animes[[\"anime_id\", \"image_path\"]].set_index(\"anime_id\")"
   ]
  },
  {
   "cell_type": "code",
   "execution_count": 6,
   "metadata": {},
   "outputs": [
    {
     "data": {
      "text/html": [
       "<div>\n",
       "<style scoped>\n",
       "    .dataframe tbody tr th:only-of-type {\n",
       "        vertical-align: middle;\n",
       "    }\n",
       "\n",
       "    .dataframe tbody tr th {\n",
       "        vertical-align: top;\n",
       "    }\n",
       "\n",
       "    .dataframe thead th {\n",
       "        text-align: right;\n",
       "    }\n",
       "</style>\n",
       "<table border=\"1\" class=\"dataframe\">\n",
       "  <thead>\n",
       "    <tr style=\"text-align: right;\">\n",
       "      <th></th>\n",
       "      <th>image_path</th>\n",
       "    </tr>\n",
       "    <tr>\n",
       "      <th>anime_id</th>\n",
       "      <th></th>\n",
       "    </tr>\n",
       "  </thead>\n",
       "  <tbody>\n",
       "    <tr>\n",
       "      <th>9289</th>\n",
       "      <td>https://cdn.myanimelist.net/images/anime/3/289...</td>\n",
       "    </tr>\n",
       "    <tr>\n",
       "      <th>12431</th>\n",
       "      <td>https://cdn.myanimelist.net/images/anime/7/375...</td>\n",
       "    </tr>\n",
       "    <tr>\n",
       "      <th>18497</th>\n",
       "      <td>https://cdn.myanimelist.net/images/anime/5/525...</td>\n",
       "    </tr>\n",
       "    <tr>\n",
       "      <th>34336</th>\n",
       "      <td>https://cdn.myanimelist.net/images/anime/13/82...</td>\n",
       "    </tr>\n",
       "    <tr>\n",
       "      <th>39587</th>\n",
       "      <td>https://cdn.myanimelist.net/images/anime/1444/...</td>\n",
       "    </tr>\n",
       "  </tbody>\n",
       "</table>\n",
       "</div>"
      ],
      "text/plain": [
       "                                                 image_path\n",
       "anime_id                                                   \n",
       "9289      https://cdn.myanimelist.net/images/anime/3/289...\n",
       "12431     https://cdn.myanimelist.net/images/anime/7/375...\n",
       "18497     https://cdn.myanimelist.net/images/anime/5/525...\n",
       "34336     https://cdn.myanimelist.net/images/anime/13/82...\n",
       "39587     https://cdn.myanimelist.net/images/anime/1444/..."
      ]
     },
     "execution_count": 6,
     "metadata": {},
     "output_type": "execute_result"
    }
   ],
   "source": [
    "image_links.head()"
   ]
  },
  {
   "cell_type": "code",
   "execution_count": 7,
   "metadata": {},
   "outputs": [
    {
     "data": {
      "text/html": [
       "<div>\n",
       "<style scoped>\n",
       "    .dataframe tbody tr th:only-of-type {\n",
       "        vertical-align: middle;\n",
       "    }\n",
       "\n",
       "    .dataframe tbody tr th {\n",
       "        vertical-align: top;\n",
       "    }\n",
       "\n",
       "    .dataframe thead th {\n",
       "        text-align: right;\n",
       "    }\n",
       "</style>\n",
       "<table border=\"1\" class=\"dataframe\">\n",
       "  <thead>\n",
       "    <tr style=\"text-align: right;\">\n",
       "      <th></th>\n",
       "      <th>title</th>\n",
       "      <th>url</th>\n",
       "      <th>image_path</th>\n",
       "      <th>airing_status</th>\n",
       "      <th>num_episodes</th>\n",
       "      <th>mpaa_rating</th>\n",
       "      <th>synopsis</th>\n",
       "    </tr>\n",
       "    <tr>\n",
       "      <th>anime_id</th>\n",
       "      <th></th>\n",
       "      <th></th>\n",
       "      <th></th>\n",
       "      <th></th>\n",
       "      <th></th>\n",
       "      <th></th>\n",
       "      <th></th>\n",
       "    </tr>\n",
       "  </thead>\n",
       "  <tbody>\n",
       "    <tr>\n",
       "      <th>9289</th>\n",
       "      <td>Hanasaku Iroha</td>\n",
       "      <td>https://myanimelist.net/anime/9289/Hanasaku_Iroha</td>\n",
       "      <td>https://cdn.myanimelist.net/images/anime/3/289...</td>\n",
       "      <td>2</td>\n",
       "      <td>26.0</td>\n",
       "      <td>PG-13 - Teens 13 or older</td>\n",
       "      <td>Ohana Matsumae is an energetic and wild teenag...</td>\n",
       "    </tr>\n",
       "    <tr>\n",
       "      <th>12431</th>\n",
       "      <td>Uchuu Kyoudai</td>\n",
       "      <td>https://myanimelist.net/anime/12431/Uchuu_Kyoudai</td>\n",
       "      <td>https://cdn.myanimelist.net/images/anime/7/375...</td>\n",
       "      <td>2</td>\n",
       "      <td>99.0</td>\n",
       "      <td>PG-13 - Teens 13 or older</td>\n",
       "      <td>On a fateful summer night in 2006, Mutta Nanba...</td>\n",
       "    </tr>\n",
       "    <tr>\n",
       "      <th>18497</th>\n",
       "      <td>Yozakura Quartet: Hana no Uta</td>\n",
       "      <td>https://myanimelist.net/anime/18497/Yozakura_Q...</td>\n",
       "      <td>https://cdn.myanimelist.net/images/anime/5/525...</td>\n",
       "      <td>2</td>\n",
       "      <td>13.0</td>\n",
       "      <td>PG-13 - Teens 13 or older</td>\n",
       "      <td>Hundreds of years ago, the borders between the...</td>\n",
       "    </tr>\n",
       "    <tr>\n",
       "      <th>34336</th>\n",
       "      <td>Glass no Kamen Desu ga to Z Specials</td>\n",
       "      <td>https://myanimelist.net/anime/34336/Glass_no_K...</td>\n",
       "      <td>https://cdn.myanimelist.net/images/anime/13/82...</td>\n",
       "      <td>2</td>\n",
       "      <td>2.0</td>\n",
       "      <td>PG-13 - Teens 13 or older</td>\n",
       "      <td>Two unaired episodes of Glass no Kamen Desu ga...</td>\n",
       "    </tr>\n",
       "    <tr>\n",
       "      <th>39587</th>\n",
       "      <td>Re:Zero kara Hajimeru Isekai Seikatsu 2nd Season</td>\n",
       "      <td>https://myanimelist.net/anime/39587/Re_Zero_ka...</td>\n",
       "      <td>https://cdn.myanimelist.net/images/anime/1444/...</td>\n",
       "      <td>1</td>\n",
       "      <td>13.0</td>\n",
       "      <td>R - 17+ (violence &amp; profanity)</td>\n",
       "      <td>Even after dying countless times, Subaru final...</td>\n",
       "    </tr>\n",
       "    <tr>\n",
       "      <th>...</th>\n",
       "      <td>...</td>\n",
       "      <td>...</td>\n",
       "      <td>...</td>\n",
       "      <td>...</td>\n",
       "      <td>...</td>\n",
       "      <td>...</td>\n",
       "      <td>...</td>\n",
       "    </tr>\n",
       "    <tr>\n",
       "      <th>39644</th>\n",
       "      <td>Setsugetsuka</td>\n",
       "      <td>https://myanimelist.net/anime/39644/Setsugetsuka</td>\n",
       "      <td>https://cdn.myanimelist.net/images/anime/1001/...</td>\n",
       "      <td>2</td>\n",
       "      <td>1.0</td>\n",
       "      <td>G - All Ages</td>\n",
       "      <td>A music video of the song \"Setsugetsuka\" perfo...</td>\n",
       "    </tr>\n",
       "    <tr>\n",
       "      <th>40052</th>\n",
       "      <td>Great Pretender</td>\n",
       "      <td>https://myanimelist.net/anime/40052/Great_Pret...</td>\n",
       "      <td>https://cdn.myanimelist.net/images/anime/1418/...</td>\n",
       "      <td>1</td>\n",
       "      <td>23.0</td>\n",
       "      <td>None</td>\n",
       "      <td>A series of unfortunate events has led Makoto ...</td>\n",
       "    </tr>\n",
       "    <tr>\n",
       "      <th>41277</th>\n",
       "      <td>Rainbow Ruby</td>\n",
       "      <td>https://myanimelist.net/anime/41277/Rainbow_Ruby</td>\n",
       "      <td>https://cdn.myanimelist.net/images/anime/1050/...</td>\n",
       "      <td>2</td>\n",
       "      <td>26.0</td>\n",
       "      <td>PG - Children</td>\n",
       "      <td>At Ruby's house, a small event related to the ...</td>\n",
       "    </tr>\n",
       "    <tr>\n",
       "      <th>41450</th>\n",
       "      <td>Big Hits! (Yoriko Mizushiri)</td>\n",
       "      <td>https://myanimelist.net/anime/41450/Big_Hits_Y...</td>\n",
       "      <td>https://cdn.myanimelist.net/images/anime/1278/...</td>\n",
       "      <td>2</td>\n",
       "      <td>1.0</td>\n",
       "      <td>G - All Ages</td>\n",
       "      <td>Program ID by Yoriko Mizushiri for Space Showe...</td>\n",
       "    </tr>\n",
       "    <tr>\n",
       "      <th>41822</th>\n",
       "      <td>Moldiver Ex</td>\n",
       "      <td>https://myanimelist.net/anime/41822/Moldiver_Ex</td>\n",
       "      <td>https://cdn.myanimelist.net/images/anime/1636/...</td>\n",
       "      <td>2</td>\n",
       "      <td>2.0</td>\n",
       "      <td>None</td>\n",
       "      <td>The first episode (Go Go! Doll-chan), 12 minut...</td>\n",
       "    </tr>\n",
       "  </tbody>\n",
       "</table>\n",
       "<p>17058 rows × 7 columns</p>\n",
       "</div>"
      ],
      "text/plain": [
       "                                                     title  \\\n",
       "anime_id                                                     \n",
       "9289                                        Hanasaku Iroha   \n",
       "12431                                        Uchuu Kyoudai   \n",
       "18497                        Yozakura Quartet: Hana no Uta   \n",
       "34336                 Glass no Kamen Desu ga to Z Specials   \n",
       "39587     Re:Zero kara Hajimeru Isekai Seikatsu 2nd Season   \n",
       "...                                                    ...   \n",
       "39644                                         Setsugetsuka   \n",
       "40052                                      Great Pretender   \n",
       "41277                                         Rainbow Ruby   \n",
       "41450                         Big Hits! (Yoriko Mizushiri)   \n",
       "41822                                          Moldiver Ex   \n",
       "\n",
       "                                                        url  \\\n",
       "anime_id                                                      \n",
       "9289      https://myanimelist.net/anime/9289/Hanasaku_Iroha   \n",
       "12431     https://myanimelist.net/anime/12431/Uchuu_Kyoudai   \n",
       "18497     https://myanimelist.net/anime/18497/Yozakura_Q...   \n",
       "34336     https://myanimelist.net/anime/34336/Glass_no_K...   \n",
       "39587     https://myanimelist.net/anime/39587/Re_Zero_ka...   \n",
       "...                                                     ...   \n",
       "39644      https://myanimelist.net/anime/39644/Setsugetsuka   \n",
       "40052     https://myanimelist.net/anime/40052/Great_Pret...   \n",
       "41277      https://myanimelist.net/anime/41277/Rainbow_Ruby   \n",
       "41450     https://myanimelist.net/anime/41450/Big_Hits_Y...   \n",
       "41822       https://myanimelist.net/anime/41822/Moldiver_Ex   \n",
       "\n",
       "                                                 image_path  airing_status  \\\n",
       "anime_id                                                                     \n",
       "9289      https://cdn.myanimelist.net/images/anime/3/289...              2   \n",
       "12431     https://cdn.myanimelist.net/images/anime/7/375...              2   \n",
       "18497     https://cdn.myanimelist.net/images/anime/5/525...              2   \n",
       "34336     https://cdn.myanimelist.net/images/anime/13/82...              2   \n",
       "39587     https://cdn.myanimelist.net/images/anime/1444/...              1   \n",
       "...                                                     ...            ...   \n",
       "39644     https://cdn.myanimelist.net/images/anime/1001/...              2   \n",
       "40052     https://cdn.myanimelist.net/images/anime/1418/...              1   \n",
       "41277     https://cdn.myanimelist.net/images/anime/1050/...              2   \n",
       "41450     https://cdn.myanimelist.net/images/anime/1278/...              2   \n",
       "41822     https://cdn.myanimelist.net/images/anime/1636/...              2   \n",
       "\n",
       "          num_episodes                     mpaa_rating  \\\n",
       "anime_id                                                 \n",
       "9289              26.0       PG-13 - Teens 13 or older   \n",
       "12431             99.0       PG-13 - Teens 13 or older   \n",
       "18497             13.0       PG-13 - Teens 13 or older   \n",
       "34336              2.0       PG-13 - Teens 13 or older   \n",
       "39587             13.0  R - 17+ (violence & profanity)   \n",
       "...                ...                             ...   \n",
       "39644              1.0                    G - All Ages   \n",
       "40052             23.0                            None   \n",
       "41277             26.0                   PG - Children   \n",
       "41450              1.0                    G - All Ages   \n",
       "41822              2.0                            None   \n",
       "\n",
       "                                                   synopsis  \n",
       "anime_id                                                     \n",
       "9289      Ohana Matsumae is an energetic and wild teenag...  \n",
       "12431     On a fateful summer night in 2006, Mutta Nanba...  \n",
       "18497     Hundreds of years ago, the borders between the...  \n",
       "34336     Two unaired episodes of Glass no Kamen Desu ga...  \n",
       "39587     Even after dying countless times, Subaru final...  \n",
       "...                                                     ...  \n",
       "39644     A music video of the song \"Setsugetsuka\" perfo...  \n",
       "40052     A series of unfortunate events has led Makoto ...  \n",
       "41277     At Ruby's house, a small event related to the ...  \n",
       "41450     Program ID by Yoriko Mizushiri for Space Showe...  \n",
       "41822     The first episode (Go Go! Doll-chan), 12 minut...  \n",
       "\n",
       "[17058 rows x 7 columns]"
      ]
     },
     "execution_count": 7,
     "metadata": {},
     "output_type": "execute_result"
    }
   ],
   "source": [
    "animes.set_index(\"anime_id\")"
   ]
  },
  {
   "cell_type": "code",
   "execution_count": 8,
   "metadata": {},
   "outputs": [
    {
     "name": "stdout",
     "output_type": "stream",
     "text": [
      "<class 'pandas.core.frame.DataFrame'>\n",
      "RangeIndex: 17058 entries, 0 to 17057\n",
      "Data columns (total 8 columns):\n",
      " #   Column         Non-Null Count  Dtype  \n",
      "---  ------         --------------  -----  \n",
      " 0   title          17058 non-null  object \n",
      " 1   anime_id       17058 non-null  int64  \n",
      " 2   url            17058 non-null  object \n",
      " 3   image_path     17058 non-null  object \n",
      " 4   airing_status  17058 non-null  int64  \n",
      " 5   num_episodes   16583 non-null  float64\n",
      " 6   mpaa_rating    17058 non-null  object \n",
      " 7   synopsis       16261 non-null  object \n",
      "dtypes: float64(1), int64(2), object(5)\n",
      "memory usage: 1.0+ MB\n"
     ]
    }
   ],
   "source": [
    "animes.info()"
   ]
  },
  {
   "cell_type": "code",
   "execution_count": 9,
   "metadata": {},
   "outputs": [
    {
     "data": {
      "text/html": [
       "<div>\n",
       "<style scoped>\n",
       "    .dataframe tbody tr th:only-of-type {\n",
       "        vertical-align: middle;\n",
       "    }\n",
       "\n",
       "    .dataframe tbody tr th {\n",
       "        vertical-align: top;\n",
       "    }\n",
       "\n",
       "    .dataframe thead th {\n",
       "        text-align: right;\n",
       "    }\n",
       "</style>\n",
       "<table border=\"1\" class=\"dataframe\">\n",
       "  <thead>\n",
       "    <tr style=\"text-align: right;\">\n",
       "      <th></th>\n",
       "      <th>anime_id</th>\n",
       "      <th>airing_status</th>\n",
       "      <th>num_episodes</th>\n",
       "    </tr>\n",
       "  </thead>\n",
       "  <tbody>\n",
       "    <tr>\n",
       "      <th>count</th>\n",
       "      <td>17058.000000</td>\n",
       "      <td>17058.000000</td>\n",
       "      <td>16583.000000</td>\n",
       "    </tr>\n",
       "    <tr>\n",
       "      <th>mean</th>\n",
       "      <td>20799.787490</td>\n",
       "      <td>2.000645</td>\n",
       "      <td>11.567931</td>\n",
       "    </tr>\n",
       "    <tr>\n",
       "      <th>std</th>\n",
       "      <td>14576.791624</td>\n",
       "      <td>0.198634</td>\n",
       "      <td>47.924225</td>\n",
       "    </tr>\n",
       "    <tr>\n",
       "      <th>min</th>\n",
       "      <td>1.000000</td>\n",
       "      <td>1.000000</td>\n",
       "      <td>1.000000</td>\n",
       "    </tr>\n",
       "    <tr>\n",
       "      <th>25%</th>\n",
       "      <td>5664.250000</td>\n",
       "      <td>2.000000</td>\n",
       "      <td>1.000000</td>\n",
       "    </tr>\n",
       "    <tr>\n",
       "      <th>50%</th>\n",
       "      <td>21772.000000</td>\n",
       "      <td>2.000000</td>\n",
       "      <td>2.000000</td>\n",
       "    </tr>\n",
       "    <tr>\n",
       "      <th>75%</th>\n",
       "      <td>35058.750000</td>\n",
       "      <td>2.000000</td>\n",
       "      <td>12.000000</td>\n",
       "    </tr>\n",
       "    <tr>\n",
       "      <th>max</th>\n",
       "      <td>42754.000000</td>\n",
       "      <td>3.000000</td>\n",
       "      <td>3057.000000</td>\n",
       "    </tr>\n",
       "  </tbody>\n",
       "</table>\n",
       "</div>"
      ],
      "text/plain": [
       "           anime_id  airing_status  num_episodes\n",
       "count  17058.000000   17058.000000  16583.000000\n",
       "mean   20799.787490       2.000645     11.567931\n",
       "std    14576.791624       0.198634     47.924225\n",
       "min        1.000000       1.000000      1.000000\n",
       "25%     5664.250000       2.000000      1.000000\n",
       "50%    21772.000000       2.000000      2.000000\n",
       "75%    35058.750000       2.000000     12.000000\n",
       "max    42754.000000       3.000000   3057.000000"
      ]
     },
     "execution_count": 9,
     "metadata": {},
     "output_type": "execute_result"
    }
   ],
   "source": [
    "animes.describe()"
   ]
  },
  {
   "cell_type": "code",
   "execution_count": 10,
   "metadata": {},
   "outputs": [],
   "source": [
    "animes.sort_index(inplace=True)"
   ]
  },
  {
   "cell_type": "code",
   "execution_count": 51,
   "metadata": {},
   "outputs": [],
   "source": [
    "users = pd.read_csv(\"dataset/users.csv\")"
   ]
  },
  {
   "cell_type": "code",
   "execution_count": 52,
   "metadata": {},
   "outputs": [
    {
     "data": {
      "text/html": [
       "<div>\n",
       "<style scoped>\n",
       "    .dataframe tbody tr th:only-of-type {\n",
       "        vertical-align: middle;\n",
       "    }\n",
       "\n",
       "    .dataframe tbody tr th {\n",
       "        vertical-align: top;\n",
       "    }\n",
       "\n",
       "    .dataframe thead th {\n",
       "        text-align: right;\n",
       "    }\n",
       "</style>\n",
       "<table border=\"1\" class=\"dataframe\">\n",
       "  <thead>\n",
       "    <tr style=\"text-align: right;\">\n",
       "      <th></th>\n",
       "      <th>user_id</th>\n",
       "      <th>username</th>\n",
       "      <th>gender</th>\n",
       "      <th>location</th>\n",
       "      <th>birth_date</th>\n",
       "      <th>join_date</th>\n",
       "      <th>last_scraped_date</th>\n",
       "    </tr>\n",
       "  </thead>\n",
       "  <tbody>\n",
       "    <tr>\n",
       "      <th>0</th>\n",
       "      <td>1</td>\n",
       "      <td>Xinil</td>\n",
       "      <td>Male</td>\n",
       "      <td>California</td>\n",
       "      <td>1985-03-04 00:00:00</td>\n",
       "      <td>2004-11-05 00:00:00</td>\n",
       "      <td>2020-09-02 15:20:23.893907</td>\n",
       "    </tr>\n",
       "    <tr>\n",
       "      <th>1</th>\n",
       "      <td>3</td>\n",
       "      <td>Aokaado</td>\n",
       "      <td>Male</td>\n",
       "      <td>Oslo, Norway</td>\n",
       "      <td>1988-11-11 00:00:00</td>\n",
       "      <td>2004-11-11 00:00:00</td>\n",
       "      <td>2020-09-02 15:20:23.893907</td>\n",
       "    </tr>\n",
       "    <tr>\n",
       "      <th>2</th>\n",
       "      <td>4</td>\n",
       "      <td>Crystal</td>\n",
       "      <td>Female</td>\n",
       "      <td>Melbourne, Australia</td>\n",
       "      <td>1989-01-10 00:00:00</td>\n",
       "      <td>2004-11-13 00:00:00</td>\n",
       "      <td>2020-09-02 15:20:23.893907</td>\n",
       "    </tr>\n",
       "    <tr>\n",
       "      <th>3</th>\n",
       "      <td>20</td>\n",
       "      <td>vondur</td>\n",
       "      <td>Male</td>\n",
       "      <td>Bergen, Norway</td>\n",
       "      <td>1988-01-25 00:00:00</td>\n",
       "      <td>2005-01-05 00:00:00</td>\n",
       "      <td>2020-09-02 15:20:23.893907</td>\n",
       "    </tr>\n",
       "    <tr>\n",
       "      <th>4</th>\n",
       "      <td>23</td>\n",
       "      <td>Amuro</td>\n",
       "      <td>NaN</td>\n",
       "      <td>Canada</td>\n",
       "      <td>1988-02-22 00:00:00</td>\n",
       "      <td>2005-01-23 00:00:00</td>\n",
       "      <td>2020-09-02 15:20:23.893907</td>\n",
       "    </tr>\n",
       "  </tbody>\n",
       "</table>\n",
       "</div>"
      ],
      "text/plain": [
       "   user_id username  gender              location           birth_date  \\\n",
       "0        1    Xinil    Male            California  1985-03-04 00:00:00   \n",
       "1        3  Aokaado    Male          Oslo, Norway  1988-11-11 00:00:00   \n",
       "2        4  Crystal  Female  Melbourne, Australia  1989-01-10 00:00:00   \n",
       "3       20   vondur    Male        Bergen, Norway  1988-01-25 00:00:00   \n",
       "4       23    Amuro     NaN                Canada  1988-02-22 00:00:00   \n",
       "\n",
       "             join_date           last_scraped_date  \n",
       "0  2004-11-05 00:00:00  2020-09-02 15:20:23.893907  \n",
       "1  2004-11-11 00:00:00  2020-09-02 15:20:23.893907  \n",
       "2  2004-11-13 00:00:00  2020-09-02 15:20:23.893907  \n",
       "3  2005-01-05 00:00:00  2020-09-02 15:20:23.893907  \n",
       "4  2005-01-23 00:00:00  2020-09-02 15:20:23.893907  "
      ]
     },
     "execution_count": 52,
     "metadata": {},
     "output_type": "execute_result"
    }
   ],
   "source": [
    "users.head()"
   ]
  },
  {
   "cell_type": "code",
   "execution_count": 53,
   "metadata": {
    "scrolled": true
   },
   "outputs": [
    {
     "name": "stdout",
     "output_type": "stream",
     "text": [
      "<class 'pandas.core.frame.DataFrame'>\n",
      "RangeIndex: 302674 entries, 0 to 302673\n",
      "Data columns (total 7 columns):\n",
      " #   Column             Non-Null Count   Dtype \n",
      "---  ------             --------------   ----- \n",
      " 0   user_id            302674 non-null  int64 \n",
      " 1   username           302674 non-null  object\n",
      " 2   gender             217800 non-null  object\n",
      " 3   location           156774 non-null  object\n",
      " 4   birth_date         168749 non-null  object\n",
      " 5   join_date          302547 non-null  object\n",
      " 6   last_scraped_date  302674 non-null  object\n",
      "dtypes: int64(1), object(6)\n",
      "memory usage: 16.2+ MB\n"
     ]
    }
   ],
   "source": [
    "users.info()"
   ]
  },
  {
   "cell_type": "code",
   "execution_count": 54,
   "metadata": {},
   "outputs": [
    {
     "data": {
      "text/html": [
       "<div>\n",
       "<style scoped>\n",
       "    .dataframe tbody tr th:only-of-type {\n",
       "        vertical-align: middle;\n",
       "    }\n",
       "\n",
       "    .dataframe tbody tr th {\n",
       "        vertical-align: top;\n",
       "    }\n",
       "\n",
       "    .dataframe thead th {\n",
       "        text-align: right;\n",
       "    }\n",
       "</style>\n",
       "<table border=\"1\" class=\"dataframe\">\n",
       "  <thead>\n",
       "    <tr style=\"text-align: right;\">\n",
       "      <th></th>\n",
       "      <th>user_id</th>\n",
       "    </tr>\n",
       "  </thead>\n",
       "  <tbody>\n",
       "    <tr>\n",
       "      <th>count</th>\n",
       "      <td>3.026740e+05</td>\n",
       "    </tr>\n",
       "    <tr>\n",
       "      <th>mean</th>\n",
       "      <td>2.061418e+06</td>\n",
       "    </tr>\n",
       "    <tr>\n",
       "      <th>std</th>\n",
       "      <td>2.118055e+06</td>\n",
       "    </tr>\n",
       "    <tr>\n",
       "      <th>min</th>\n",
       "      <td>1.000000e+00</td>\n",
       "    </tr>\n",
       "    <tr>\n",
       "      <th>25%</th>\n",
       "      <td>2.322448e+05</td>\n",
       "    </tr>\n",
       "    <tr>\n",
       "      <th>50%</th>\n",
       "      <td>1.167586e+06</td>\n",
       "    </tr>\n",
       "    <tr>\n",
       "      <th>75%</th>\n",
       "      <td>3.883448e+06</td>\n",
       "    </tr>\n",
       "    <tr>\n",
       "      <th>max</th>\n",
       "      <td>7.273306e+06</td>\n",
       "    </tr>\n",
       "  </tbody>\n",
       "</table>\n",
       "</div>"
      ],
      "text/plain": [
       "            user_id\n",
       "count  3.026740e+05\n",
       "mean   2.061418e+06\n",
       "std    2.118055e+06\n",
       "min    1.000000e+00\n",
       "25%    2.322448e+05\n",
       "50%    1.167586e+06\n",
       "75%    3.883448e+06\n",
       "max    7.273306e+06"
      ]
     },
     "execution_count": 54,
     "metadata": {},
     "output_type": "execute_result"
    }
   ],
   "source": [
    "users.describe()"
   ]
  },
  {
   "cell_type": "code",
   "execution_count": 50,
   "metadata": {},
   "outputs": [],
   "source": [
    "spark = SparkSession.builder.getOrCreate()"
   ]
  },
  {
   "cell_type": "code",
   "execution_count": 33,
   "metadata": {},
   "outputs": [],
   "source": [
    "# Reading the ratings through csv\n",
    "ratings = spark.read.format(\"csv\").option(\"header\",\"true\").load(\"dataset/user_watches.csv\")"
   ]
  },
  {
   "cell_type": "code",
   "execution_count": 34,
   "metadata": {},
   "outputs": [
    {
     "name": "stdout",
     "output_type": "stream",
     "text": [
      "+--------+-----+------+--------------------+-------+\n",
      "|anime_id|score|status|num_watched_episodes|user_id|\n",
      "+--------+-----+------+--------------------+-------+\n",
      "|      21|    9|     1|                 626|      1|\n",
      "|   11061|    9|     2|                  30|      1|\n",
      "|    8676|    0|     1|                   4|      3|\n",
      "|    9919|    0|     1|                   2|      3|\n",
      "|    5081|    0|     1|                   8|      3|\n",
      "|     109|    0|     1|                   1|      3|\n",
      "|    2986|    6|     1|                  14|      3|\n",
      "|     269|    9|     1|                 201|      3|\n",
      "|   31043|    0|     1|                   3|      3|\n",
      "|   28223|    0|     1|                   7|      3|\n",
      "+--------+-----+------+--------------------+-------+\n",
      "only showing top 10 rows\n",
      "\n"
     ]
    }
   ],
   "source": [
    "ratings.show(10)"
   ]
  },
  {
   "cell_type": "code",
   "execution_count": 35,
   "metadata": {},
   "outputs": [
    {
     "name": "stderr",
     "output_type": "stream",
     "text": [
      "                                                                                \r"
     ]
    },
    {
     "data": {
      "text/plain": [
       "68235827"
      ]
     },
     "execution_count": 35,
     "metadata": {},
     "output_type": "execute_result"
    }
   ],
   "source": [
    "ratings.count()"
   ]
  },
  {
   "cell_type": "code",
   "execution_count": 36,
   "metadata": {},
   "outputs": [
    {
     "name": "stdout",
     "output_type": "stream",
     "text": [
      "root\n",
      " |-- anime_id: string (nullable = true)\n",
      " |-- score: string (nullable = true)\n",
      " |-- status: string (nullable = true)\n",
      " |-- num_watched_episodes: string (nullable = true)\n",
      " |-- user_id: string (nullable = true)\n",
      "\n"
     ]
    }
   ],
   "source": [
    "# Looks like all the values are stored as strings which need to be converted into numeric format\n",
    "ratings.printSchema()"
   ]
  },
  {
   "cell_type": "code",
   "execution_count": 40,
   "metadata": {
    "scrolled": true
   },
   "outputs": [
    {
     "data": {
      "text/html": [
       "<div>\n",
       "<style scoped>\n",
       "    .dataframe tbody tr th:only-of-type {\n",
       "        vertical-align: middle;\n",
       "    }\n",
       "\n",
       "    .dataframe tbody tr th {\n",
       "        vertical-align: top;\n",
       "    }\n",
       "\n",
       "    .dataframe thead th {\n",
       "        text-align: right;\n",
       "    }\n",
       "</style>\n",
       "<table border=\"1\" class=\"dataframe\">\n",
       "  <thead>\n",
       "    <tr style=\"text-align: right;\">\n",
       "      <th></th>\n",
       "      <th>Type</th>\n",
       "    </tr>\n",
       "    <tr>\n",
       "      <th>Columns</th>\n",
       "      <th></th>\n",
       "    </tr>\n",
       "  </thead>\n",
       "  <tbody>\n",
       "    <tr>\n",
       "      <th>anime_id</th>\n",
       "      <td>string</td>\n",
       "    </tr>\n",
       "    <tr>\n",
       "      <th>score</th>\n",
       "      <td>string</td>\n",
       "    </tr>\n",
       "    <tr>\n",
       "      <th>status</th>\n",
       "      <td>string</td>\n",
       "    </tr>\n",
       "    <tr>\n",
       "      <th>num_watched_episodes</th>\n",
       "      <td>string</td>\n",
       "    </tr>\n",
       "    <tr>\n",
       "      <th>user_id</th>\n",
       "      <td>string</td>\n",
       "    </tr>\n",
       "  </tbody>\n",
       "</table>\n",
       "</div>"
      ],
      "text/plain": [
       "                        Type\n",
       "Columns                     \n",
       "anime_id              string\n",
       "score                 string\n",
       "status                string\n",
       "num_watched_episodes  string\n",
       "user_id               string"
      ]
     },
     "execution_count": 40,
     "metadata": {},
     "output_type": "execute_result"
    }
   ],
   "source": [
    "pd.DataFrame(ratings.dtypes, columns=[\"Columns\", \"Type\"]).set_index(\"Columns\")"
   ]
  },
  {
   "cell_type": "code",
   "execution_count": 44,
   "metadata": {},
   "outputs": [],
   "source": [
    "# Convert the columns to the desired formats\n",
    "\n",
    "#Import the datatypes from sql.types\n",
    "from pyspark.sql.functions import col\n",
    "from pyspark.sql.types import IntegerType\n",
    "\n",
    "ratings_converted = ratings.withColumn(\"anime_id\",col(\"anime_id\").cast(IntegerType())) \\\n",
    "                            .withColumn(\"score\", col(\"score\").cast(IntegerType())) \\\n",
    "                            .withColumn(\"status\", col(\"status\").cast(IntegerType())) \\\n",
    "                            .withColumn(\"num_watched_episodes\", col(\"num_watched_episodes\").cast(IntegerType())) \\\n",
    "                            .withColumn(\"user_id\", col(\"user_id\").cast(IntegerType()))\n",
    "\n"
   ]
  },
  {
   "cell_type": "code",
   "execution_count": 45,
   "metadata": {},
   "outputs": [
    {
     "data": {
      "text/html": [
       "<div>\n",
       "<style scoped>\n",
       "    .dataframe tbody tr th:only-of-type {\n",
       "        vertical-align: middle;\n",
       "    }\n",
       "\n",
       "    .dataframe tbody tr th {\n",
       "        vertical-align: top;\n",
       "    }\n",
       "\n",
       "    .dataframe thead th {\n",
       "        text-align: right;\n",
       "    }\n",
       "</style>\n",
       "<table border=\"1\" class=\"dataframe\">\n",
       "  <thead>\n",
       "    <tr style=\"text-align: right;\">\n",
       "      <th></th>\n",
       "      <th>Type</th>\n",
       "    </tr>\n",
       "    <tr>\n",
       "      <th>Columns</th>\n",
       "      <th></th>\n",
       "    </tr>\n",
       "  </thead>\n",
       "  <tbody>\n",
       "    <tr>\n",
       "      <th>anime_id</th>\n",
       "      <td>int</td>\n",
       "    </tr>\n",
       "    <tr>\n",
       "      <th>score</th>\n",
       "      <td>int</td>\n",
       "    </tr>\n",
       "    <tr>\n",
       "      <th>status</th>\n",
       "      <td>int</td>\n",
       "    </tr>\n",
       "    <tr>\n",
       "      <th>num_watched_episodes</th>\n",
       "      <td>int</td>\n",
       "    </tr>\n",
       "    <tr>\n",
       "      <th>user_id</th>\n",
       "      <td>int</td>\n",
       "    </tr>\n",
       "  </tbody>\n",
       "</table>\n",
       "</div>"
      ],
      "text/plain": [
       "                     Type\n",
       "Columns                  \n",
       "anime_id              int\n",
       "score                 int\n",
       "status                int\n",
       "num_watched_episodes  int\n",
       "user_id               int"
      ]
     },
     "execution_count": 45,
     "metadata": {},
     "output_type": "execute_result"
    }
   ],
   "source": [
    "pd.DataFrame(ratings_converted.dtypes, columns=[\"Columns\", \"Type\"]).set_index(\"Columns\")"
   ]
  },
  {
   "cell_type": "code",
   "execution_count": 46,
   "metadata": {
    "scrolled": true
   },
   "outputs": [
    {
     "name": "stderr",
     "output_type": "stream",
     "text": [
      "[Stage 24:==============================================>          (9 + 2) / 11]\r"
     ]
    },
    {
     "name": "stdout",
     "output_type": "stream",
     "text": [
      "+-------+------------------+------------------+------------------+--------------------+------------------+\n",
      "|summary|          anime_id|             score|            status|num_watched_episodes|           user_id|\n",
      "+-------+------------------+------------------+------------------+--------------------+------------------+\n",
      "|  count|          68235827|          68235827|          68235827|            68235827|          68235827|\n",
      "|   mean|13378.034951858941| 4.418941225699514|2.9792683834549263|    14.5287745981301|2199570.0187202976|\n",
      "| stddev|12595.299422842292|3.9361641781290206|1.7208643699307469|   359.8135277987043|2077056.6802860275|\n",
      "|    min|                 1|                 0|                 0|                   0|                 1|\n",
      "|    max|             42754|                10|                55|               65535|           7273306|\n",
      "+-------+------------------+------------------+------------------+--------------------+------------------+\n",
      "\n"
     ]
    },
    {
     "name": "stderr",
     "output_type": "stream",
     "text": [
      "\r",
      "                                                                                \r"
     ]
    }
   ],
   "source": [
    "ratings_converted.describe().show()"
   ]
  },
  {
   "cell_type": "code",
   "execution_count": 56,
   "metadata": {},
   "outputs": [
    {
     "name": "stderr",
     "output_type": "stream",
     "text": [
      "                                                                                \r"
     ]
    },
    {
     "data": {
      "text/plain": [
       "[1, 6, 3, 5, 9, 4, 8, 7, 10, 2, 0]"
      ]
     },
     "execution_count": 56,
     "metadata": {},
     "output_type": "execute_result"
    }
   ],
   "source": [
    "ratings_converted.select(\"score\").distinct().rdd.map(lambda r: r[0]).collect()"
   ]
  },
  {
   "cell_type": "code",
   "execution_count": 60,
   "metadata": {},
   "outputs": [
    {
     "name": "stderr",
     "output_type": "stream",
     "text": [
      "                                                                                \r"
     ]
    }
   ],
   "source": [
    "numeric_cols = [\"anime_id\", \"score\", \"status\", \"num_watched_episodes\", \"user_id\"]\n",
    "missing_counts = {}\n",
    "for index, column in enumerate(numeric_cols):\n",
    "    \n",
    "    count = ratings_converted.where(col(column).isin([0,None,np.nan])).count()\n",
    "    missing_counts.update({column:count})"
   ]
  },
  {
   "cell_type": "code",
   "execution_count": 61,
   "metadata": {},
   "outputs": [
    {
     "data": {
      "text/plain": [
       "{'anime_id': 0,\n",
       " 'score': 28166294,\n",
       " 'status': 169,\n",
       " 'num_watched_episodes': 17820511,\n",
       " 'user_id': 0}"
      ]
     },
     "execution_count": 61,
     "metadata": {},
     "output_type": "execute_result"
    },
    {
     "name": "stderr",
     "output_type": "stream",
     "text": [
      "22/02/05 13:01:38 WARN HeartbeatReceiver: Removing executor driver with no recent heartbeats: 1006245 ms exceeds timeout 120000 ms\n",
      "22/02/05 13:01:38 WARN SparkContext: Killing executors is not supported by current scheduler.\n"
     ]
    }
   ],
   "source": [
    "missing_counts"
   ]
  },
  {
   "cell_type": "code",
   "execution_count": 75,
   "metadata": {},
   "outputs": [],
   "source": [
    "rate = pd.read_csv(\"dataset/user_watches.csv\")"
   ]
  },
  {
   "cell_type": "code",
   "execution_count": 64,
   "metadata": {},
   "outputs": [
    {
     "name": "stdout",
     "output_type": "stream",
     "text": [
      "<class 'pandas.core.frame.DataFrame'>\n",
      "RangeIndex: 68235827 entries, 0 to 68235826\n",
      "Data columns (total 5 columns):\n",
      " #   Column                Dtype\n",
      "---  ------                -----\n",
      " 0   anime_id              int64\n",
      " 1   score                 int64\n",
      " 2   status                int64\n",
      " 3   num_watched_episodes  int64\n",
      " 4   user_id               int64\n",
      "dtypes: int64(5)\n",
      "memory usage: 2.5 GB\n"
     ]
    }
   ],
   "source": [
    "rate.info()"
   ]
  },
  {
   "cell_type": "code",
   "execution_count": 65,
   "metadata": {},
   "outputs": [
    {
     "data": {
      "text/html": [
       "<div>\n",
       "<style scoped>\n",
       "    .dataframe tbody tr th:only-of-type {\n",
       "        vertical-align: middle;\n",
       "    }\n",
       "\n",
       "    .dataframe tbody tr th {\n",
       "        vertical-align: top;\n",
       "    }\n",
       "\n",
       "    .dataframe thead th {\n",
       "        text-align: right;\n",
       "    }\n",
       "</style>\n",
       "<table border=\"1\" class=\"dataframe\">\n",
       "  <thead>\n",
       "    <tr style=\"text-align: right;\">\n",
       "      <th></th>\n",
       "      <th>anime_id</th>\n",
       "      <th>score</th>\n",
       "      <th>status</th>\n",
       "      <th>num_watched_episodes</th>\n",
       "      <th>user_id</th>\n",
       "    </tr>\n",
       "  </thead>\n",
       "  <tbody>\n",
       "    <tr>\n",
       "      <th>count</th>\n",
       "      <td>6.823583e+07</td>\n",
       "      <td>6.823583e+07</td>\n",
       "      <td>6.823583e+07</td>\n",
       "      <td>6.823583e+07</td>\n",
       "      <td>6.823583e+07</td>\n",
       "    </tr>\n",
       "    <tr>\n",
       "      <th>mean</th>\n",
       "      <td>1.337803e+04</td>\n",
       "      <td>4.418941e+00</td>\n",
       "      <td>2.979268e+00</td>\n",
       "      <td>1.452877e+01</td>\n",
       "      <td>2.199570e+06</td>\n",
       "    </tr>\n",
       "    <tr>\n",
       "      <th>std</th>\n",
       "      <td>1.259530e+04</td>\n",
       "      <td>3.936164e+00</td>\n",
       "      <td>1.720864e+00</td>\n",
       "      <td>3.598135e+02</td>\n",
       "      <td>2.077057e+06</td>\n",
       "    </tr>\n",
       "    <tr>\n",
       "      <th>min</th>\n",
       "      <td>1.000000e+00</td>\n",
       "      <td>0.000000e+00</td>\n",
       "      <td>0.000000e+00</td>\n",
       "      <td>0.000000e+00</td>\n",
       "      <td>1.000000e+00</td>\n",
       "    </tr>\n",
       "    <tr>\n",
       "      <th>25%</th>\n",
       "      <td>1.954000e+03</td>\n",
       "      <td>0.000000e+00</td>\n",
       "      <td>2.000000e+00</td>\n",
       "      <td>0.000000e+00</td>\n",
       "      <td>2.888850e+05</td>\n",
       "    </tr>\n",
       "    <tr>\n",
       "      <th>50%</th>\n",
       "      <td>9.513000e+03</td>\n",
       "      <td>6.000000e+00</td>\n",
       "      <td>2.000000e+00</td>\n",
       "      <td>4.000000e+00</td>\n",
       "      <td>1.407861e+06</td>\n",
       "    </tr>\n",
       "    <tr>\n",
       "      <th>75%</th>\n",
       "      <td>2.325100e+04</td>\n",
       "      <td>8.000000e+00</td>\n",
       "      <td>4.000000e+00</td>\n",
       "      <td>1.300000e+01</td>\n",
       "      <td>4.044265e+06</td>\n",
       "    </tr>\n",
       "    <tr>\n",
       "      <th>max</th>\n",
       "      <td>4.275400e+04</td>\n",
       "      <td>1.000000e+01</td>\n",
       "      <td>5.500000e+01</td>\n",
       "      <td>6.553500e+04</td>\n",
       "      <td>7.273306e+06</td>\n",
       "    </tr>\n",
       "  </tbody>\n",
       "</table>\n",
       "</div>"
      ],
      "text/plain": [
       "           anime_id         score        status  num_watched_episodes  \\\n",
       "count  6.823583e+07  6.823583e+07  6.823583e+07          6.823583e+07   \n",
       "mean   1.337803e+04  4.418941e+00  2.979268e+00          1.452877e+01   \n",
       "std    1.259530e+04  3.936164e+00  1.720864e+00          3.598135e+02   \n",
       "min    1.000000e+00  0.000000e+00  0.000000e+00          0.000000e+00   \n",
       "25%    1.954000e+03  0.000000e+00  2.000000e+00          0.000000e+00   \n",
       "50%    9.513000e+03  6.000000e+00  2.000000e+00          4.000000e+00   \n",
       "75%    2.325100e+04  8.000000e+00  4.000000e+00          1.300000e+01   \n",
       "max    4.275400e+04  1.000000e+01  5.500000e+01          6.553500e+04   \n",
       "\n",
       "            user_id  \n",
       "count  6.823583e+07  \n",
       "mean   2.199570e+06  \n",
       "std    2.077057e+06  \n",
       "min    1.000000e+00  \n",
       "25%    2.888850e+05  \n",
       "50%    1.407861e+06  \n",
       "75%    4.044265e+06  \n",
       "max    7.273306e+06  "
      ]
     },
     "execution_count": 65,
     "metadata": {},
     "output_type": "execute_result"
    }
   ],
   "source": [
    "rate.describe()"
   ]
  },
  {
   "cell_type": "code",
   "execution_count": 66,
   "metadata": {},
   "outputs": [],
   "source": [
    "import seaborn as sns"
   ]
  },
  {
   "cell_type": "code",
   "execution_count": 81,
   "metadata": {},
   "outputs": [
    {
     "data": {
      "text/plain": [
       "<AxesSubplot:xlabel='user_id', ylabel='anime_id'>"
      ]
     },
     "execution_count": 81,
     "metadata": {},
     "output_type": "execute_result"
    },
    {
     "data": {
      "image/png": "[encoded data removed]",
      "text/plain": [
       "<Figure size 432x288 with 1 Axes>"
      ]
     },
     "metadata": {
      "needs_background": "light"
     },
     "output_type": "display_data"
    }
   ],
   "source": [
    "sns.scatterplot(data=rate,x=\"user_id\", y = \"anime_id\")"
   ]
  },
  {
   "cell_type": "code",
   "execution_count": null,
   "metadata": {},
   "outputs": [],
   "source": []
  }
 ],
 "metadata": {
  "interpreter": {
   "hash": "569d6b7e9215e11aba41c6454007e5c1b78bad7df09dab765d8cf00362c40f03"
  },
  "kernelspec": {
   "display_name": "Python 3 (ipykernel)",
   "language": "python",
   "name": "python3"
  },
  "language_info": {
   "codemirror_mode": {
    "name": "ipython",
    "version": 3
   },
   "file_extension": ".py",
   "mimetype": "text/x-python",
   "name": "python",
   "nbconvert_exporter": "python",
   "pygments_lexer": "ipython3",
   "version": "3.7.11"
  }
 },
 "nbformat": 4,
 "nbformat_minor": 2
}
